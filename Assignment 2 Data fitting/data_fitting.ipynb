{
 "cells": [
  {
   "cell_type": "code",
   "execution_count": 1,
   "metadata": {},
   "outputs": [
    {
     "data": {
      "text/plain": [
       "(4.470465966508188, array([ 0.04709025, -0.00718671,  0.18913941]))"
      ]
     },
     "execution_count": 1,
     "metadata": {},
     "output_type": "execute_result"
    }
   ],
   "source": [
    "import pandas as pd\n",
    "from sklearn.linear_model import LinearRegression\n",
    "\n",
    "# Given data\n",
    "data = {\n",
    "    'Thickness': [5, 10, 15, 20, 5, 10, 15, 20, 5, 10, 15, 20, 5, 10, 15, 20, 5, 10, 15, 20,\n",
    "                  5, 10, 15, 20, 5, 10, 15, 20, 5, 10, 15, 20, 5, 10, 15, 20, 5, 10, 15, 20],\n",
    "    'Perimeter': [20, 36, 65, 117, 210, 378, 680, 65, 117, 210, 65, 117, 210, 20, 36, 65, 680, 65, 117, 210,\n",
    "                  20, 36, 65, 117, 210, 378, 680, 65, 117, 210, 65, 117, 210, 20, 36, 65, 680, 65, 117, 210],\n",
    "    'Weight': [0.09, 0.2, 0.6, 1.6, 3.9, 9.8, 24.4, 0.1, 0.3, 0.6, 0.2, 2.2, 9.2, 0.025, 0.2, 0.6, 12.0, 0.25, 0.6, 1.6,\n",
    "               0.09, 0.2, 0.6, 1.6, 3.9, 9.8, 24.4, 0.1, 0.3, 0.6, 0.2, 2.2, 9.2, 0.025, 0.2, 0.6, 12.0, 0.25, 0.6, 1.6],\n",
    "    'Cost': [5.6, 5.2, 5.4, 5.4, 4.1, 4.1, 4.2, 3.8, 2.7, 2.9, 4.1, 5.9, 5.4, 4.0, 5.6, 5.8, 2.9, 3.9, 4.0, 4.1,\n",
    "             5.6, 5.2, 5.4, 5.4, 4.1, 4.1, 4.2, 3.8, 2.7, 2.9, 4.1, 5.9, 5.4, 4.0, 5.6, 5.8, 2.9, 3.9, 4.0, 4.1]\n",
    "}\n",
    "\n",
    "# Create a DataFrame\n",
    "df = pd.DataFrame(data)\n",
    "\n",
    "# Initialize the Linear Regression model\n",
    "model = LinearRegression(fit_intercept=True)\n",
    "\n",
    "# Define the features and the target\n",
    "X = df[['Thickness', 'Perimeter', 'Weight']]\n",
    "y = df['Cost']\n",
    "\n",
    "# Fit the model\n",
    "model.fit(X, y)\n",
    "\n",
    "# Get the coefficients and intercept\n",
    "intercept = model.intercept_\n",
    "coefficients = model.coef_\n",
    "\n",
    "(intercept, coefficients)\n"
   ]
  },
  {
   "cell_type": "code",
   "execution_count": null,
   "metadata": {},
   "outputs": [],
   "source": [
    "# fitting stadardied data\n",
    "\n",
    "from sklearn.preprocessing import StandardScaler\n",
    "\n",
    "# Initialize the StandardScaler\n",
    "scaler = StandardScaler()\n",
    "\n",
    "# Standardize the features\n",
    "X_std = scaler.fit_transform(X)\n",
    "\n",
    "# Stan"
   ]
  }
 ],
 "metadata": {
  "kernelspec": {
   "display_name": "base",
   "language": "python",
   "name": "python3"
  },
  "language_info": {
   "codemirror_mode": {
    "name": "ipython",
    "version": 3
   },
   "file_extension": ".py",
   "mimetype": "text/x-python",
   "name": "python",
   "nbconvert_exporter": "python",
   "pygments_lexer": "ipython3",
   "version": "3.11.5"
  }
 },
 "nbformat": 4,
 "nbformat_minor": 2
}
